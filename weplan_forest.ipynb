{
 "cells": [
  {
   "cell_type": "code",
   "execution_count": null,
   "id": "80754e7c-c93c-4b64-960b-00697919e088",
   "metadata": {},
   "outputs": [],
   "source": [
    "from urllib.request import urlretrieve\n",
    "from tempfile import TemporaryDirectory\n",
    "from pathlib import Path\n",
    "\n",
    "with TemporaryDirectory() as tmp_dir:\n",
    "\n",
    "    file = Path(tmp_dir) / \"test_file.txt\"\n",
    "    urlretrieve(\n",
    "        \"https://iisau-weplan.s3.eu-west-1.amazonaws.com/aws_access_test.txt\", file\n",
    "    )\n",
    "\n",
    "    with file.open() as f:\n",
    "        print(f.read())"
   ]
  },
  {
   "cell_type": "code",
   "execution_count": null,
   "id": "73743da1-8281-40e3-8dbe-281acbf32379",
   "metadata": {
    "tags": []
   },
   "outputs": [],
   "source": [
    "# the S3 bucket file\n",
    "bucket = \"https://iisau-weplan.s3.eu-west-1.amazonaws.com/\"\n",
    "\n",
    "zip_file = bucket + \"weplan_data/UGA_v002.zip\"\n",
    "\n",
    "# from io import BytesIO\n",
    "# from zipfile import ZipFile\n",
    "# import requests\n",
    "\n",
    "# def get_zip(file_url):\n",
    "#    url = requests.get(file_url)\n",
    "#    zipfile = ZipFile(BytesIO(url.content))\n",
    "#    files = [zipfile.open(file_name) for file_name in zipfile.namelist()]\n",
    "#    return files.pop() if len(files) == 1 else files\n",
    "\n",
    "# get_zip(zip_file)\n",
    "\n",
    "print(zip_file)\n",
    "\n",
    "with TemporaryDirectory() as tmp_dir:\n",
    "\n",
    "    file = Path(tmp_dir) / \"test_dir.zip\"\n",
    "\n",
    "    urlretrieve(str(zip_file), file)\n",
    "\n",
    "    print(file.is_file())"
   ]
  },
  {
   "cell_type": "code",
   "execution_count": null,
   "id": "5c60926c-fdea-4e3a-8ed6-3d7a912393b1",
   "metadata": {},
   "outputs": [],
   "source": [
    "url = \"https://iisau-weplan.s3.eu-west-1.amazonaws.com/weplan_data/UGA_v002.zip\"\n",
    "\n",
    "import zipfile\n",
    "import requests\n",
    "from io import BytesIO\n",
    "from component import parameter as cp\n",
    "\n",
    "iso_tmp_folder = cp.tmp_dir / \"UGA\"\n",
    "print(iso_tmp_folder.is_dir())\n",
    "\n",
    "with zipfile.ZipFile(BytesIO(requests.get(url).content)) as f:\n",
    "    f.extractall(iso_tmp_folder)"
   ]
  },
  {
   "cell_type": "code",
   "execution_count": null,
   "id": "17bafeb2-1089-464b-ae9e-35d0e5d08f37",
   "metadata": {},
   "outputs": [],
   "source": []
  }
 ],
 "metadata": {
  "kernelspec": {
   "display_name": "Python 3",
   "language": "python",
   "name": "python3"
  },
  "language_info": {
   "codemirror_mode": {
    "name": "ipython",
    "version": 3
   },
   "file_extension": ".py",
   "mimetype": "text/x-python",
   "name": "python",
   "nbconvert_exporter": "python",
   "pygments_lexer": "ipython3",
   "version": "3.8.10"
  }
 },
 "nbformat": 4,
 "nbformat_minor": 5
}
