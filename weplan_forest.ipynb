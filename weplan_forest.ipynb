{
 "cells": [
  {
   "cell_type": "code",
   "execution_count": null,
   "id": "80754e7c-c93c-4b64-960b-00697919e088",
   "metadata": {},
   "outputs": [],
   "source": [
    "from urllib.request import urlretrieve\n",
    "from tempfile import TemporaryDirectory\n",
    "from pathlib import Path\n",
    "\n",
    "with TemporaryDirectory() as tmp_dir:\n",
    "\n",
    "    file = Path(tmp_dir) / \"test_file.txt\"\n",
    "    urlretrieve(\n",
    "        \"https://iisau-weplan.s3.eu-west-1.amazonaws.com/aws_access_test.txt\", file\n",
    "    )\n",
    "\n",
    "    with file.open() as f:\n",
    "        print(f.read())"
   ]
  },
  {
   "cell_type": "code",
   "execution_count": null,
   "id": "73743da1-8281-40e3-8dbe-281acbf32379",
   "metadata": {},
   "outputs": [],
   "source": []
  }
 ],
 "metadata": {
  "kernelspec": {
   "display_name": "Python 3",
   "language": "python",
   "name": "python3"
  },
  "language_info": {
   "codemirror_mode": {
    "name": "ipython",
    "version": 3
   },
   "file_extension": ".py",
   "mimetype": "text/x-python",
   "name": "python",
   "nbconvert_exporter": "python",
   "pygments_lexer": "ipython3",
   "version": "3.8.10"
  }
 },
 "nbformat": 4,
 "nbformat_minor": 5
}
